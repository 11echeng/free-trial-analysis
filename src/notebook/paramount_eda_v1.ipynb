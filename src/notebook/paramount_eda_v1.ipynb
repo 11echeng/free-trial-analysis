{
 "cells": [
  {
   "cell_type": "code",
   "execution_count": 2,
   "metadata": {},
   "outputs": [],
   "source": [
    "import pandas as pd"
   ]
  },
  {
   "cell_type": "code",
   "execution_count": 1,
   "metadata": {},
   "outputs": [
    {
     "ename": "NameError",
     "evalue": "name 'pd' is not defined",
     "output_type": "error",
     "traceback": [
      "\u001b[1;31m---------------------------------------------------------------------------\u001b[0m",
      "\u001b[1;31mNameError\u001b[0m                                 Traceback (most recent call last)",
      "Cell \u001b[1;32mIn[1], line 23\u001b[0m\n\u001b[0;32m      1\u001b[0m \u001b[38;5;124;03m'''\u001b[39;00m\n\u001b[0;32m      2\u001b[0m \u001b[38;5;124;03mData Types:\u001b[39;00m\n\u001b[0;32m      3\u001b[0m \u001b[38;5;124;03m1. REPORT_DATE: Numerical | (Discrete -> Interval -> DateTime object)\u001b[39;00m\n\u001b[1;32m   (...)\u001b[0m\n\u001b[0;32m     21\u001b[0m \n\u001b[0;32m     22\u001b[0m \u001b[38;5;124;03m'''\u001b[39;00m\n\u001b[1;32m---> 23\u001b[0m df \u001b[38;5;241m=\u001b[39m \u001b[43mpd\u001b[49m\u001b[38;5;241m.\u001b[39mread_csv(\u001b[38;5;124m'\u001b[39m\u001b[38;5;124m../../data/data.csv\u001b[39m\u001b[38;5;124m'\u001b[39m)\n\u001b[0;32m     24\u001b[0m df\n\u001b[0;32m     26\u001b[0m colNames \u001b[38;5;241m=\u001b[39m df\u001b[38;5;241m.\u001b[39mcolumns()\n",
      "\u001b[1;31mNameError\u001b[0m: name 'pd' is not defined"
     ]
    }
   ],
   "source": [
    "'''\n",
    "Data Types:\n",
    "1. REPORT_DATE: Numerical | (Discrete -> Interval -> DateTime object)\n",
    "2. ATL_OR_DR: Categorical | (Nominal  -> String)\n",
    "3. CAMPAIGN_TYPE: Categorical | (Nominal -> String)\n",
    "4. CHANNEL: Categorical | (Nominal -> String)\n",
    "5. COST: Quantitative | (Continuous -> Ratio -> Float)\n",
    "6. FREE TRAILS: Quantitative | ( Continuous/Discrete** -> Ratio)\n",
    "\n",
    "Keep in Mind:\n",
    "**\n",
    "1. Number of free trials should be a discrete data type.\n",
    "You can't have .5 of a free trial. Need to look into understand\n",
    "how this field is being represented.\n",
    "**\n",
    "\n",
    "Pre-Req:\n",
    "1. Ensure proper data types across dataframe\n",
    "2. Identify data gaps\n",
    "\n",
    "\n",
    "'''\n",
    "df = pd.read_csv('../../data/data.csv')\n",
    "df\n",
    "\n",
    "colNames = df.columns()\n",
    "categorical = colNames[1:4]\n",
    "quantitative = colNames[4::]\n",
    "print(f'Categorical: {categorical} | Quantitative: {quantitative}')"
   ]
  },
  {
   "cell_type": "code",
   "execution_count": 14,
   "metadata": {},
   "outputs": [
    {
     "name": "stdout",
     "output_type": "stream",
     "text": [
      "Table Dimension: (14108, 6) \n",
      "\n",
      "<class 'pandas.core.frame.DataFrame'>\n",
      "RangeIndex: 14108 entries, 0 to 14107\n",
      "Data columns (total 6 columns):\n",
      " #   Column          Non-Null Count  Dtype         \n",
      "---  ------          --------------  -----         \n",
      " 0   REPORT_DATE     14108 non-null  datetime64[ns]\n",
      " 1   ATL_OR_DR       14108 non-null  object        \n",
      " 2   CAMPAIGN_TYPE   14108 non-null  object        \n",
      " 3   CHANNEL         14108 non-null  object        \n",
      " 4   COST            14108 non-null  float64       \n",
      " 5   FREE TRIALS     14108 non-null  float64       \n",
      "dtypes: datetime64[ns](1), float64(2), object(3)\n",
      "memory usage: 661.4+ KB\n"
     ]
    }
   ],
   "source": [
    "df['REPORT_DATE'] = pd.to_datetime(df['REPORT_DATE'])\n",
    "print(f'Table Dimension: {df.shape} \\n')\n",
    "df.info()"
   ]
  },
  {
   "cell_type": "code",
   "execution_count": null,
   "metadata": {},
   "outputs": [],
   "source": []
  },
  {
   "cell_type": "code",
   "execution_count": null,
   "metadata": {},
   "outputs": [],
   "source": []
  }
 ],
 "metadata": {
  "kernelspec": {
   "display_name": ".venv",
   "language": "python",
   "name": "python3"
  },
  "language_info": {
   "codemirror_mode": {
    "name": "ipython",
    "version": 3
   },
   "file_extension": ".py",
   "mimetype": "text/x-python",
   "name": "python",
   "nbconvert_exporter": "python",
   "pygments_lexer": "ipython3",
   "version": "3.8.5"
  }
 },
 "nbformat": 4,
 "nbformat_minor": 2
}
