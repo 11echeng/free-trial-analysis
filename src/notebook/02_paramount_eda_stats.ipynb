{
 "cells": [
  {
   "cell_type": "markdown",
   "metadata": {},
   "source": [
    "import pandas as pd\n",
    "from scipy.stats import pearsonr\n",
    "\n",
    "# Assuming your data is in a DataFrame named 'df' with columns 'COST_log' and 'FREE TRIALS_log'\n",
    "\n",
    "# Calculate the Pearson correlation coefficient\n",
    "corr_coef, p_value = pearsonr(df['COST'], df['FREE TRIALS_log'])\n",
    "\n",
    "print(f\"Pearson correlation coefficient: {corr_coef}\")\n",
    "print(f\"P-value: {p_value}\")\n",
    "\n",
    "# Interpret the results\n",
    "if abs(corr_coef) > 0.7:\n",
    "    print(\"Strong correlation\")\n",
    "elif abs(corr_coef) > 0.3:\n",
    "    print(\"Moderate correlation\")\n",
    "else:\n",
    "    print(\"Weak correlation\")\n",
    "\n",
    "if p_value < 0.05:\n",
    "    print(\"The correlation is statistically significant.\")\n",
    "else:\n",
    "    print(\"The correlation is not statistically significant.\")"
   ]
  }
 ],
 "metadata": {
  "language_info": {
   "name": "python"
  }
 },
 "nbformat": 4,
 "nbformat_minor": 2
}
