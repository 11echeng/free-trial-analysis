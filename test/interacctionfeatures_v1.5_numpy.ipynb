{
 "cells": [
  {
   "cell_type": "code",
   "execution_count": 11,
   "metadata": {},
   "outputs": [
    {
     "name": "stdout",
     "output_type": "stream",
     "text": [
      "featurename fitting\n",
      "featurename transforming\n",
      "interactinction fitting\n",
      "interactinction transforming\n",
      "featurename transforming\n",
      "interactinction transforming\n",
      "Predictions: [50. 30. 60. 25.]\n"
     ]
    }
   ],
   "source": [
    "'''\n",
    "Q. What Changed in This Solution?\n",
    "A. We’ll use a custom wrapper to extract feature names dynamically inside the pipeline, ensuring the preprocessor is only fitted once:\n",
    "    a. Dynamic Feature Name Extraction Inside the Pipeline:\n",
    "        - The FeatureNameExtractor step wraps the ColumnTransformer and automatically extracts feature names when the pipeline is fitted.\n",
    "    b. No Manual Pre-Fit:\n",
    "        - You no longer need to fit the preprocessor outside the pipeline. Everything happens during pipeline.fit().\n",
    "    c. Portability:\n",
    "        - The pipeline is now fully self-contained and can be reused without manual preprocessing steps.'''\n",
    "from sklearn.compose import ColumnTransformer\n",
    "from sklearn.pipeline import Pipeline\n",
    "from sklearn.preprocessing import OneHotEncoder, StandardScaler\n",
    "from sklearn.base import BaseEstimator, TransformerMixin\n",
    "from sklearn.linear_model import LinearRegression\n",
    "import pandas as pd\n",
    "import numpy as np\n",
    "\n",
    "# Sample dataset\n",
    "data = pd.DataFrame({\n",
    "    'month': ['January', 'February', 'January', 'March'],\n",
    "    'campaign_type': ['A', 'B', 'A', 'C'],\n",
    "    'cost': [500, 300, 700, 200],\n",
    "    'free_trials': [50, 30, 60, 25]\n",
    "})\n",
    "\n",
    "# Define feature columns\n",
    "categorical_columns = ['month', 'campaign_type']\n",
    "numerical_columns = ['cost']\n",
    "\n",
    "# Custom transformer to extract feature names\n",
    "class FeatureNameExtractor(BaseEstimator, TransformerMixin):\n",
    "    def __init__(self, transformer):\n",
    "        self.transformer = transformer\n",
    "        self.feature_names = None\n",
    "\n",
    "    def fit(self, X, y=None):\n",
    "        print(\"featurename fitting\")\n",
    "        self.transformer.fit(X, y)\n",
    "        self.feature_names = self.transformer.get_feature_names_out()\n",
    "        return self\n",
    "\n",
    "    def transform(self, X):\n",
    "        print(\"featurename transforming\")\n",
    "        return self.transformer.transform(X)\n",
    "\n",
    "# Preprocessor to handle categorical and numerical columns\n",
    "preprocessor = FeatureNameExtractor(\n",
    "    ColumnTransformer(\n",
    "        transformers=[\n",
    "            ('cat', OneHotEncoder(drop='first', sparse_output=False), categorical_columns),  # One-hot encode\n",
    "            ('num', StandardScaler(), numerical_columns)  # Scale numerical columns\n",
    "        ],\n",
    "        remainder='passthrough'\n",
    "    )\n",
    ")\n",
    "\n",
    "# Custom transformer for interaction terms\n",
    "class InteractionFeatures(BaseEstimator, TransformerMixin):\n",
    "    def __init__(self, numerical_columns, interaction_names):\n",
    "        self.numerical_columns = numerical_columns\n",
    "        self.interaction_names = interaction_names\n",
    "\n",
    "    def fit(self, X, y=None):\n",
    "        print(\"interactinction fitting\")\n",
    "        return self\n",
    "\n",
    "    def transform(self, X):\n",
    "        print(\"interactinction transforming\")\n",
    "        interaction_features = []\n",
    "        for num_col in self.numerical_columns:\n",
    "            for interaction_name in self.interaction_names:\n",
    "                interaction_features.append(X[:, num_col] * X[:, interaction_name])\n",
    "        interaction_features = np.column_stack(interaction_features)\n",
    "        return np.hstack([X, interaction_features])\n",
    "\n",
    "    def get_feature_names_out(self, X, y=None):\n",
    "        return self\n",
    "\n",
    "\n",
    "# Pipeline\n",
    "pipeline = Pipeline([\n",
    "    ('preprocessor', preprocessor),  # Extract feature names dynamically\n",
    "    ('interaction', InteractionFeatures(\n",
    "        numerical_columns=[2],  # Index of 'cost' in the scaled output\n",
    "        interaction_names=[0, 1]  # Indices of 'month_January' and 'campaign_type_A'\n",
    "    )),\n",
    "    ('model', LinearRegression())  # Example model\n",
    "])\n",
    "\n",
    "# Features and target\n",
    "X = data[['month', 'campaign_type', 'cost']]\n",
    "y = data['free_trials']\n",
    "\n",
    "# Fit the pipeline\n",
    "pipeline.fit(X, y)\n",
    "\n",
    "# Make predictions\n",
    "predictions = pipeline.predict(X)\n",
    "print(\"Predictions:\", predictions)\n"
   ]
  },
  {
   "cell_type": "code",
   "execution_count": 9,
   "metadata": {},
   "outputs": [],
   "source": [
    "pipeline.named_steps['interaction'].feature_names = preprocessor.feature_names\n"
   ]
  },
  {
   "cell_type": "code",
   "execution_count": 10,
   "metadata": {},
   "outputs": [
    {
     "data": {
      "text/plain": [
       "array(['cat__month_January', 'cat__month_March', 'cat__campaign_type_B',\n",
       "       'cat__campaign_type_C', 'num__cost'], dtype=object)"
      ]
     },
     "execution_count": 10,
     "metadata": {},
     "output_type": "execute_result"
    }
   ],
   "source": [
    "preprocessor.feature_names"
   ]
  }
 ],
 "metadata": {
  "kernelspec": {
   "display_name": ".venv",
   "language": "python",
   "name": "python3"
  },
  "language_info": {
   "codemirror_mode": {
    "name": "ipython",
    "version": 3
   },
   "file_extension": ".py",
   "mimetype": "text/x-python",
   "name": "python",
   "nbconvert_exporter": "python",
   "pygments_lexer": "ipython3",
   "version": "3.8.5"
  }
 },
 "nbformat": 4,
 "nbformat_minor": 2
}
