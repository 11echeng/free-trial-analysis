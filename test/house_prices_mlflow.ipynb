{
 "cells": [
  {
   "cell_type": "code",
   "execution_count": 11,
   "metadata": {},
   "outputs": [
    {
     "name": "stderr",
     "output_type": "stream",
     "text": [
      "c:\\Users\\cheng\\Workspace\\Paramount\\.venv\\lib\\site-packages\\sklearn\\metrics\\_regression.py:996: UndefinedMetricWarning: R^2 score is not well-defined with less than two samples.\n",
      "  warnings.warn(msg, UndefinedMetricWarning)\n",
      "2025/01/23 21:27:03 WARNING mlflow.models.model: Model logged without a signature and input example. Please set `input_example` parameter when logging the model to auto infer the model signature.\n"
     ]
    },
    {
     "name": "stdout",
     "output_type": "stream",
     "text": [
      "Run complete: RMSE=9999.999999999942, R2=nan\n"
     ]
    }
   ],
   "source": [
    "import mlflow\n",
    "import mlflow.sklearn\n",
    "from sklearn.metrics import mean_squared_error, r2_score\n",
    "import pandas as pd\n",
    "from sklearn.compose import ColumnTransformer\n",
    "from sklearn.pipeline import Pipeline\n",
    "from sklearn.preprocessing import StandardScaler, OneHotEncoder\n",
    "from sklearn.base import BaseEstimator, TransformerMixin\n",
    "from sklearn.linear_model import LinearRegression\n",
    "from sklearn.model_selection import train_test_split\n",
    "\n",
    "# Sample data\n",
    "data = pd.DataFrame({\n",
    "    'square_footage': [1500, 2000, 2500, 1800, 3000],\n",
    "    'price': [300000, 400000, 500000, 350000, 600000],\n",
    "    'neighborhood': ['A', 'B', 'A', 'B', 'A']\n",
    "})\n",
    "\n",
    "# Train-test split\n",
    "X = data[['square_footage', 'neighborhood']]\n",
    "y = data['price']\n",
    "X_train, X_test, y_train, y_test = train_test_split(X, y, test_size=0.2, random_state=42)\n",
    "\n",
    "# Custom transformer for cost_per_square_foot\n",
    "class CostPerSquareFootTransformer(BaseEstimator, TransformerMixin):\n",
    "    def fit(self, X, y=None):\n",
    "        print(\"fitting!!\")\n",
    "        if y is None:\n",
    "            raise ValueError(\"Target values (y) must not be None during fit.\")\n",
    "        self.mean_price_ = y.mean()  # Save mean price\n",
    "        return self\n",
    "\n",
    "    def transform(self, X, y=None):\n",
    "        print(\"transforming!!\")\n",
    "        X = X.copy()\n",
    "        # Use the mean price as a proxy for cost_per_square_foot\n",
    "        X['cost_per_square_foot'] = X['square_footage'] / (self.mean_price_ + 1e-9)\n",
    "        return X\n",
    "\n",
    "# Preprocessing pipeline\n",
    "preprocessor = ColumnTransformer(\n",
    "    transformers=[\n",
    "        ('num', StandardScaler(), ['square_footage', 'cost_per_square_foot']),\n",
    "        ('cat', OneHotEncoder(), ['neighborhood'])\n",
    "    ],\n",
    "    remainder='drop'\n",
    ")\n",
    "\n",
    "# Full pipeline\n",
    "pipeline = Pipeline(steps=[\n",
    "    ('feature_engineering', CostPerSquareFootTransformer()),  # Custom feature engineering\n",
    "    ('preprocessor', preprocessor),  # Preprocessing\n",
    "    ('model', LinearRegression())  # Model\n",
    "])\n",
    "\n",
    "# Train the model with MLflow tracking\n",
    "with mlflow.start_run():\n",
    "    # Fit the pipeline\n",
    "    print(\"hi!\")\n",
    "    pipeline.fit(X_train, y_train)\n",
    "    print(\"bye!\")\n",
    "    # Make predictions\n",
    "    y_pred = pipeline.predict(X_test)\n",
    "\n",
    "    # Calculate metrics\n",
    "    rmse = mean_squared_error(y_test, y_pred, squared=False)\n",
    "    r2 = r2_score(y_test, y_pred)\n",
    "\n",
    "    # Log metrics\n",
    "    mlflow.log_metric(\"rmse\", rmse)\n",
    "    mlflow.log_metric(\"r2\", r2)\n",
    "\n",
    "    # Log the entire pipeline\n",
    "    mlflow.sklearn.log_model(pipeline, \"pipeline_model\")\n",
    "\n",
    "    # End the run\n",
    "    print(f\"Run complete: RMSE={rmse}, R2={r2}\")\n"
   ]
  }
 ],
 "metadata": {
  "kernelspec": {
   "display_name": ".venv",
   "language": "python",
   "name": "python3"
  },
  "language_info": {
   "codemirror_mode": {
    "name": "ipython",
    "version": 3
   },
   "file_extension": ".py",
   "mimetype": "text/x-python",
   "name": "python",
   "nbconvert_exporter": "python",
   "pygments_lexer": "ipython3",
   "version": "3.8.5"
  }
 },
 "nbformat": 4,
 "nbformat_minor": 2
}
