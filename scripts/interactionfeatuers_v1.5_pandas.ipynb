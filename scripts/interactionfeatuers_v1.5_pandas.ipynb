{
 "cells": [
  {
   "cell_type": "code",
   "execution_count": 9,
   "metadata": {},
   "outputs": [
    {
     "name": "stdout",
     "output_type": "stream",
     "text": [
      "interaction_features: Empty DataFrame\n",
      "Columns: []\n",
      "Index: [0, 1, 2, 3]\n",
      "is_dropped_category: 0    False\n",
      "1     True\n",
      "2    False\n",
      "3    False\n",
      "dtype: bool\n",
      "Final Feature Names: ['cat__month_January', 'cat__month_March', 'cat__campaign_type_B', 'cat__campaign_type_C', 'num__cost', 'num__cost_x_cat__month_January', 'num__cost_x_cat__month_March', 'num__cost_x_cat__month_February']\n",
      "interaction_features: Empty DataFrame\n",
      "Columns: []\n",
      "Index: [0, 1, 2, 3]\n",
      "is_dropped_category: 0    False\n",
      "1     True\n",
      "2    False\n",
      "3    False\n",
      "dtype: bool\n",
      "Predictions: [50. 30. 60. 25.]\n"
     ]
    }
   ],
   "source": [
    "'''\n",
    "I. Dropped Categories:\n",
    "    a.'February' is not directly encoded because of OneHotEncoder(drop='first').\n",
    "    b. The absence of 'January' and 'March' (i.e., cat__month_January == 0 and cat__month_March == 0) indicates 'February'.\n",
    "II. Dynamic Interaction Terms:\n",
    "    a. Interaction terms for 'February' are calculated by detecting rows where all related one-hot columns are 0.\n",
    "    b. This is handled in the PandasInteractionFeatures.transform method.\n",
    "III. Preprocessor:\n",
    "    a. Uses the PandasFeatureExtractor to ensure transformed data retains feature names and is returned as a pandas DataFrame.\n",
    "IV. Feature Names:\n",
    "    a. The get_feature_names_out() method of PandasInteractionFeatures dynamically appends names for interaction terms, including those for dropped categories.\n",
    "V. Pipeline:\n",
    "    a. Combines all steps (preprocessing, interaction, modeling) into a single, self-contained pipeline.\n",
    "'''\n",
    "from sklearn.compose import ColumnTransformer\n",
    "from sklearn.pipeline import Pipeline\n",
    "from sklearn.preprocessing import OneHotEncoder, StandardScaler\n",
    "from sklearn.base import BaseEstimator, TransformerMixin\n",
    "from sklearn.linear_model import LinearRegression\n",
    "import pandas as pd\n",
    "import numpy as np\n",
    "\n",
    "# Sample dataset\n",
    "data = pd.DataFrame({\n",
    "    'month': ['January', 'February', 'January', 'March'],\n",
    "    'campaign_type': ['A', 'B', 'A', 'C'],\n",
    "    'cost': [500, 300, 700, 200],\n",
    "    'free_trials': [50, 30, 60, 25]\n",
    "})\n",
    "\n",
    "# Define feature columns\n",
    "categorical_columns = ['month', 'campaign_type']\n",
    "numerical_columns = ['cost']\n",
    "\n",
    "# Custom transformer to extract feature names and maintain DataFrame\n",
    "class PandasFeatureExtractor(BaseEstimator, TransformerMixin):\n",
    "    def __init__(self, transformer):\n",
    "        self.transformer = transformer\n",
    "        self.feature_names = None\n",
    "\n",
    "    def fit(self, X, y=None):\n",
    "        self.transformer.fit(X, y)\n",
    "        self.feature_names = self.transformer.get_feature_names_out()\n",
    "        return self\n",
    "\n",
    "    def transform(self, X):\n",
    "        transformed_array = self.transformer.transform(X)\n",
    "        return pd.DataFrame(transformed_array, columns=self.feature_names, index=X.index)\n",
    "\n",
    "    def get_feature_names_out(self):\n",
    "        return self.feature_names\n",
    "\n",
    "# Custom transformer for interaction terms, handling dropped categories\n",
    "class PandasInteractionFeatures(BaseEstimator, TransformerMixin):\n",
    "    def __init__(self, numerical_features, interaction_features, dropped_categories=None):\n",
    "        self.numerical_features = numerical_features  # Names of numerical features\n",
    "        self.interaction_features = interaction_features  # Names of interaction features\n",
    "        self.dropped_categories = dropped_categories or {}  # Mapping for dropped categories\n",
    "        self.feature_names_out_ = None\n",
    "\n",
    "    def fit(self, X, y=None):\n",
    "        # This ensures we can reference column names during transformation and later feature naming.\n",
    "        # fit doesn’t compute anything. It’s a \"pass-through\" step for pipeline compatibility\n",
    "        self.feature_names_out_ = X.columns.tolist()\n",
    "        return self\n",
    "\n",
    "    def transform(self, X):\n",
    "        # Create an empty DataFrame with the same index for storing interaction terms.\n",
    "        # This ensures the final output maintains the same row index as X.\n",
    "        interaction_features = pd.DataFrame(index=X.index)\n",
    "        print(\"interaction_features:\", interaction_features)\n",
    "\n",
    "        # Generate interactions for available features\n",
    "        for num_feature in self.numerical_features:\n",
    "            for interaction_feature in self.interaction_features:\n",
    "                interaction_name = f\"{num_feature}_x_{interaction_feature}\"\n",
    "                interaction_features[interaction_name] = X[num_feature] * X[interaction_feature]\n",
    "\n",
    "        # Handle interactions for dropped categories\n",
    "        for num_feature in self.numerical_features:\n",
    "            for category, columns in self.dropped_categories.items():\n",
    "                interaction_name = f\"{num_feature}_x_{category}\"\n",
    "                # Identify rows where all related columns are 0 (indicating the dropped category)\n",
    "                # Sums up the one-hot encoded values row-wise in order to check for True for rows where the dropped category is present.\n",
    "                # IE: For any row, if both 'cat__month_January' and 'cat__month_March' are 0,\n",
    "                #   it implies that the original value was the dropped category ('cat__month_February').\n",
    "                # rows where sum is 0 means it was month of feburary signaled by True. Rest are False  in a vector\n",
    "                is_dropped_category = X[columns].sum(axis=1) == 0\n",
    "                print(\"is_dropped_category:\", is_dropped_category)\n",
    "                # is_dropped_category.astype(float): Converts the True/False where 1.0 is true and 0.0 is false\n",
    "                interaction_features[interaction_name] = X[num_feature] * is_dropped_category.astype(float)\n",
    "\n",
    "        # Combine original and interaction features\n",
    "        return pd.concat([X, interaction_features], axis=1)\n",
    "\n",
    "    def get_feature_names_out(self):\n",
    "        if self.feature_names_out_ is None:\n",
    "            raise ValueError(\"You must call fit() before get_feature_names_out().\")\n",
    "        interaction_names = [\n",
    "            f\"{num_feature}_x_{interaction_feature}\"\n",
    "            for num_feature in self.numerical_features\n",
    "            for interaction_feature in self.interaction_features\n",
    "        ]\n",
    "        dropped_names = [\n",
    "            f\"{num_feature}_x_{category}\"\n",
    "            for num_feature in self.numerical_features\n",
    "            for category in self.dropped_categories.keys()\n",
    "        ]\n",
    "        return self.feature_names_out_ + interaction_names + dropped_names\n",
    "\n",
    "# Preprocessor to handle categorical and numerical columns\n",
    "preprocessor = PandasFeatureExtractor(\n",
    "    ColumnTransformer(\n",
    "        transformers=[\n",
    "            ('cat', OneHotEncoder(drop='first', sparse_output=False, handle_unknown='ignore'), categorical_columns),\n",
    "            ('num', StandardScaler(), numerical_columns)\n",
    "        ],\n",
    "        remainder='passthrough'\n",
    "    )\n",
    ")\n",
    "\n",
    "# Build pipeline\n",
    "pipeline = Pipeline([\n",
    "    ('preprocessor', preprocessor),  # Preprocess features and maintain DataFrame\n",
    "    ('interaction', PandasInteractionFeatures(\n",
    "        numerical_features=['num__cost'],  # Use numerical feature names\n",
    "        interaction_features=['cat__month_January', 'cat__month_March'],  # Interaction feature names\n",
    "        dropped_categories={'cat__month_February': ['cat__month_January', 'cat__month_March']}  # Handle dropped category\n",
    "    )),\n",
    "    ('model', LinearRegression())  # Example model\n",
    "])\n",
    "\n",
    "# Features and target\n",
    "X = data[['month', 'campaign_type', 'cost']]\n",
    "y = data['free_trials']\n",
    "\n",
    "# Fit the pipeline\n",
    "pipeline.fit(X, y)\n",
    "\n",
    "# Access transformed feature names\n",
    "final_feature_names = pipeline.named_steps['interaction'].get_feature_names_out()\n",
    "print(\"Final Feature Names:\", final_feature_names)\n",
    "\n",
    "# Make predictions\n",
    "predictions = pipeline.predict(X)\n",
    "print(\"Predictions:\", predictions)\n"
   ]
  },
  {
   "cell_type": "code",
   "execution_count": 3,
   "metadata": {},
   "outputs": [
    {
     "name": "stdout",
     "output_type": "stream",
     "text": [
      "Index(['cat__month_January', 'cat__month_March', 'cat__campaign_type_B',\n",
      "       'cat__campaign_type_C', 'num__cost'],\n",
      "      dtype='object')\n"
     ]
    }
   ],
   "source": [
    "transformed_data = pipeline.named_steps['preprocessor'].transform(X)\n",
    "print(transformed_data.columns)"
   ]
  },
  {
   "cell_type": "code",
   "execution_count": 7,
   "metadata": {},
   "outputs": [
    {
     "name": "stdout",
     "output_type": "stream",
     "text": [
      "[array(['February', 'January', 'March'], dtype=object), array(['A', 'B', 'C'], dtype=object)]\n"
     ]
    }
   ],
   "source": [
    "'''\n",
    "Inspect the OneHotEncoder Categories:\n",
    "'''\n",
    "encoder = pipeline.named_steps['preprocessor'].transformer.named_transformers_['cat']\n",
    "print(encoder.categories_)\n",
    "# Output: [array(['February', 'January', 'March'], dtype=object)]\n"
   ]
  },
  {
   "cell_type": "code",
   "execution_count": 8,
   "metadata": {},
   "outputs": [
    {
     "name": "stdout",
     "output_type": "stream",
     "text": [
      "['cat__month_January' 'cat__month_March' 'cat__campaign_type_B'\n",
      " 'cat__campaign_type_C' 'num__cost']\n"
     ]
    }
   ],
   "source": [
    "'''\n",
    "Inspect Transformed Feature Names: 'February' gets removed bc it comes frist lexographically\n",
    "'''\n",
    "print(pipeline.named_steps['preprocessor'].get_feature_names_out())\n",
    "# Output: ['cat__month_February', 'cat__month_March', 'num__cost']\n"
   ]
  }
 ],
 "metadata": {
  "kernelspec": {
   "display_name": ".venv",
   "language": "python",
   "name": "python3"
  },
  "language_info": {
   "codemirror_mode": {
    "name": "ipython",
    "version": 3
   },
   "file_extension": ".py",
   "mimetype": "text/x-python",
   "name": "python",
   "nbconvert_exporter": "python",
   "pygments_lexer": "ipython3",
   "version": "3.8.5"
  }
 },
 "nbformat": 4,
 "nbformat_minor": 2
}
